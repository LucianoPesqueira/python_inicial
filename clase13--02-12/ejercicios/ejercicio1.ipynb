{
 "cells": [
  {
   "cell_type": "markdown",
   "metadata": {},
   "source": [
    "Conceptualización de una tabla\n",
    "\n",
    "Imaginá que estás a cargo de organizar una pequeña biblioteca de la\n",
    "escuela en una base de datos. Los datos que se quieren registrar\n",
    "incluyen el título del libro, el autor, la fecha de publicación y el\n",
    "género. Definí:\n",
    "\n",
    "Un nombre adecuado para la tabla.\n",
    "\n",
    "Los campos que incluirías en la tabla, sus tipos de datos y por\n",
    "qué.\n",
    "\n",
    "Qué campo sería la clave primaria y por qué."
   ]
  },
  {
   "cell_type": "markdown",
   "metadata": {},
   "source": [
    "nombre tabla: biblioteca\n",
    "campos:\n",
    "    libro_id INTEGER, primary key, autoincrement\n",
    "    titulo TEXT, NOT NULL\n",
    "    autor TEXT, NOT NULL\n",
    "    fecha_publicacion DATE\n",
    "    genero TEXT"
   ]
  }
 ],
 "metadata": {
  "kernelspec": {
   "display_name": "Python 3",
   "language": "python",
   "name": "python3"
  },
  "language_info": {
   "name": "python",
   "version": "3.12.7"
  }
 },
 "nbformat": 4,
 "nbformat_minor": 2
}
